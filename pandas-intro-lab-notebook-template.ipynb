{
 "cells": [
  {
   "cell_type": "markdown",
   "metadata": {},
   "source": [
    "# ADD COURSE TITLE HERE\n",
    "\n",
    "Student Name: **Enter Your Name Here (Double click to edit)**\n",
    "<br>\n",
    "Net ID: **Enter Your NetID Here (Double click to edit)**\n",
    "<br>\n",
    "Title: **Introduction to Pandas**"
   ]
  },
  {
   "cell_type": "markdown",
   "metadata": {},
   "source": [
    "**Q1: Describe a Series object in your own words**"
   ]
  },
  {
   "cell_type": "markdown",
   "metadata": {},
   "source": [
    "**AnswerQ1**: Your answer here (double click to edit)"
   ]
  },
  {
   "cell_type": "code",
   "execution_count": 1,
   "metadata": {},
   "outputs": [],
   "source": [
    "# your codes here (if needed)"
   ]
  },
  {
   "cell_type": "markdown",
   "metadata": {},
   "source": [
    "<b>Q2: Create your own Series object. Write code the accomplishes the following tasks. Include code + comments.\n",
    "- Assign unique index attributes for each series value\n",
    "- Access a series value(s) using the index label\n",
    "- Perform at least two unique arithmetic operations on the Series\n",
    "- Test for null values in your series</b> "
   ]
  },
  {
   "cell_type": "markdown",
   "metadata": {},
   "source": [
    "**AnswerQ2**: Your answer here (double click to edit)"
   ]
  },
  {
   "cell_type": "code",
   "execution_count": 2,
   "metadata": {},
   "outputs": [],
   "source": [
    "# your codes here (if needed)"
   ]
  },
  {
   "cell_type": "markdown",
   "metadata": {},
   "source": [
    "**Q3: Describe a DataFrame in your own words.**"
   ]
  },
  {
   "cell_type": "markdown",
   "metadata": {},
   "source": [
    "**AnswerQ3**: Your answer here (double click to edit)"
   ]
  },
  {
   "cell_type": "code",
   "execution_count": 3,
   "metadata": {},
   "outputs": [],
   "source": [
    "# your codes here (if needed)"
   ]
  },
  {
   "cell_type": "markdown",
   "metadata": {},
   "source": [
    "<b>Q4: Create your own small DataFrame. Write code that accomplishes the following tasks. Include code + comments.\n",
    "- Change the original column order\n",
    "- Select a specific column(s) using its index label or name attribute\n",
    "- Select a specific row(s) using its index label or index value\n",
    "- Remove a column from the DataFrame\n",
    "- Determine summary statistics for values in the DataFrame</b>"
   ]
  },
  {
   "cell_type": "markdown",
   "metadata": {},
   "source": [
    "**AnswerQ4**: Your answer here (double click to edit)"
   ]
  },
  {
   "cell_type": "code",
   "execution_count": 4,
   "metadata": {},
   "outputs": [],
   "source": [
    "# your codes here (if needed)"
   ]
  },
  {
   "cell_type": "markdown",
   "metadata": {},
   "source": [
    "<b>Q5: Write code that loads in a different CSV file as a DataFrame and accomplishes each of the following tasks. Include code + comments.\n",
    "- Shows the first five rows\n",
    "- Shows the last five rows\n",
    "- Checks the data types for each column\n",
    "- Returns a technical summary for the DataFrame</b>"
   ]
  },
  {
   "cell_type": "markdown",
   "metadata": {},
   "source": [
    "**AnswerQ5**: Your answer here (double click to edit)"
   ]
  },
  {
   "cell_type": "code",
   "execution_count": 5,
   "metadata": {},
   "outputs": [],
   "source": [
    "# your codes here (if needed)"
   ]
  },
  {
   "cell_type": "markdown",
   "metadata": {},
   "source": [
    "**Q6: Write code that loads in a structured data file that uses a pipe symbol (|) as a delimiter. Include code + comments.**"
   ]
  },
  {
   "cell_type": "markdown",
   "metadata": {},
   "source": [
    "**AnswerQ6**: Your answer here (double click to edit)"
   ]
  },
  {
   "cell_type": "code",
   "execution_count": 6,
   "metadata": {},
   "outputs": [],
   "source": [
    "# your codes here (if needed)"
   ]
  },
  {
   "cell_type": "markdown",
   "metadata": {},
   "source": [
    "**Q7: Write code that loads in structured data file in which missing data values are represented by \"?\", \"??\", and \"-\" characters. Include code + comments.**"
   ]
  },
  {
   "cell_type": "markdown",
   "metadata": {},
   "source": [
    "**AnswerQ7**: Your answer here (double click to edit)"
   ]
  },
  {
   "cell_type": "code",
   "execution_count": 7,
   "metadata": {},
   "outputs": [],
   "source": [
    "# your codes here (if needed)"
   ]
  },
  {
   "cell_type": "markdown",
   "metadata": {},
   "source": [
    "**Q8: Write code that ignores the last 6 rows of a structured data file. Include code + comments.**"
   ]
  },
  {
   "cell_type": "markdown",
   "metadata": {},
   "source": [
    "**AnswerQ8**: Your answer here (double click to edit)"
   ]
  },
  {
   "cell_type": "code",
   "execution_count": 8,
   "metadata": {},
   "outputs": [],
   "source": [
    "# your codes here (if needed)"
   ]
  },
  {
   "cell_type": "markdown",
   "metadata": {},
   "source": [
    "**Q9: Write code that parses a structured data file in which commas \",\" are used as a thousands separator. Include code + comments**"
   ]
  },
  {
   "cell_type": "markdown",
   "metadata": {},
   "source": [
    "**AnswerQ9**: Your answer here (double click to edit)"
   ]
  },
  {
   "cell_type": "code",
   "execution_count": 9,
   "metadata": {},
   "outputs": [],
   "source": [
    "# your codes here (if needed)"
   ]
  },
  {
   "cell_type": "markdown",
   "metadata": {},
   "source": [
    "<b>Q10: Using the DataFrame you created for Q5, write code that executes AT LEAST FOUR of the following tasks. Include code + comments.\n",
    "- Sorts a column by ascending values\n",
    "- Sorts a column by descending values\n",
    "- Selects a specific column in the DataFrame\n",
    "- Creates a new DataFrame with select columns from existing DataFrame\n",
    "- Uses a comparison operator to filter rows in the DataFrame\n",
    "- Uses an isin statement to filter rows in the DataFrame\n",
    "- Selects specific rows and columns\n",
    "- Removes duplicate rows\n",
    "- Removes rows with missing values\n",
    "- Fills missing values using .fillna, ffill, or bfill</b>"
   ]
  },
  {
   "cell_type": "markdown",
   "metadata": {},
   "source": [
    "**AnswerQ10**: Your answer here (double click to edit)"
   ]
  },
  {
   "cell_type": "code",
   "execution_count": 10,
   "metadata": {},
   "outputs": [],
   "source": [
    "# your codes here (if needed)"
   ]
  }
 ],
 "metadata": {
  "kernelspec": {
   "display_name": "Python 3",
   "language": "python",
   "name": "python3"
  },
  "language_info": {
   "codemirror_mode": {
    "name": "ipython",
    "version": 3
   },
   "file_extension": ".py",
   "mimetype": "text/x-python",
   "name": "python",
   "nbconvert_exporter": "python",
   "pygments_lexer": "ipython3",
   "version": "3.8.5"
  }
 },
 "nbformat": 4,
 "nbformat_minor": 4
}
